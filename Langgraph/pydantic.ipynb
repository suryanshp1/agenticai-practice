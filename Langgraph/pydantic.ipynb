{
 "cells": [
  {
   "cell_type": "code",
   "execution_count": 1,
   "metadata": {},
   "outputs": [],
   "source": [
    "from typing_extensions import TypedDict\n",
    "\n",
    "class State(TypedDict):\n",
    "    name: str\n",
    "    age: int"
   ]
  },
  {
   "cell_type": "code",
   "execution_count": 3,
   "metadata": {},
   "outputs": [],
   "source": [
    "from langgraph.graph import StateGraph, START, END\n",
    "from pydantic import BaseModel\n",
    "\n",
    "class OverallState(BaseModel):\n",
    "    a: str"
   ]
  },
  {
   "cell_type": "code",
   "execution_count": 4,
   "metadata": {},
   "outputs": [],
   "source": [
    "def node(state: OverallState):\n",
    "\n",
    "    return {\"a\": \"Hi I am Suryansh\"}"
   ]
  },
  {
   "cell_type": "code",
   "execution_count": 5,
   "metadata": {},
   "outputs": [],
   "source": [
    "# Build the state graph\n",
    "builder = StateGraph(OverallState)\n",
    "builder.add_node(node)\n",
    "builder.add_edge(START, \"node\")\n",
    "builder.add_edge(\"node\", END)\n",
    "graph = builder.compile()\n"
   ]
  },
  {
   "cell_type": "code",
   "execution_count": 8,
   "metadata": {},
   "outputs": [],
   "source": [
    "try:\n",
    "    graph.invoke({\"a\": \"Hello\"})\n",
    "except Exception as e:\n",
    "    print(e)"
   ]
  },
  {
   "cell_type": "code",
   "execution_count": 9,
   "metadata": {},
   "outputs": [
    {
     "name": "stdout",
     "output_type": "stream",
     "text": [
      "Invalid input | 1 validation error for OverallState\n",
      "a\n",
      "  Input should be a valid string [type=string_type, input_value=123, input_type=int]\n",
      "    For further information visit https://errors.pydantic.dev/2.10/v/string_type\n"
     ]
    }
   ],
   "source": [
    "from pydantic import ValidationError\n",
    "\n",
    "try:\n",
    "    graph.invoke({\"a\": 123})\n",
    "except ValidationError as e:\n",
    "    print(f\"Invalid input | {e}\")\n",
    "except Exception as e:\n",
    "    print(e)"
   ]
  },
  {
   "cell_type": "markdown",
   "metadata": {},
   "source": [
    "### Multiple nodes run time validation"
   ]
  },
  {
   "cell_type": "code",
   "execution_count": 10,
   "metadata": {},
   "outputs": [],
   "source": [
    "from langgraph.graph import StateGraph, START, END\n",
    "from typing_extensions import TypedDict\n",
    "from pydantic import BaseModel\n",
    "\n",
    "class OverallState(BaseModel):\n",
    "    a: str\n",
    "\n",
    "def bad_node(state: OverallState):\n",
    "    return {\n",
    "        \"a\": 123\n",
    "    }\n",
    "\n",
    "def good_node(state: OverallState):\n",
    "    return {\n",
    "        \"a\": \"good bye!\"\n",
    "    }\n",
    "\n",
    "# Build the state graph\n",
    "builder = StateGraph(OverallState)\n",
    "builder.add_node(bad_node)\n",
    "builder.add_node(good_node)\n",
    "builder.add_edge(START, \"bad_node\")\n",
    "builder.add_edge(\"bad_node\", \"good_node\")\n",
    "builder.add_edge(\"good_node\", END)\n",
    "graph = builder.compile()"
   ]
  },
  {
   "cell_type": "code",
   "execution_count": 13,
   "metadata": {},
   "outputs": [
    {
     "name": "stdout",
     "output_type": "stream",
     "text": [
      "1 validation error for OverallState\n",
      "a\n",
      "  Input should be a valid string [type=string_type, input_value=122, input_type=int]\n",
      "    For further information visit https://errors.pydantic.dev/2.10/v/string_type\n"
     ]
    }
   ],
   "source": [
    "try:\n",
    "    # graph.invoke({\"a\": \"Surya\"})\n",
    "\n",
    "    graph.invoke({\"a\": 122})\n",
    "except Exception as e:\n",
    "    print(e)"
   ]
  },
  {
   "cell_type": "markdown",
   "metadata": {},
   "source": [
    "### Prompt Chaining"
   ]
  },
  {
   "cell_type": "code",
   "execution_count": 15,
   "metadata": {},
   "outputs": [],
   "source": [
    "from typing_extensions import TypedDict\n",
    "from langgraph.graph import StateGraph, START, END\n",
    "from IPython.display import Image, display\n",
    "\n",
    "# Graph State\n",
    "\n",
    "class State(TypedDict):\n",
    "    topic: str\n",
    "    joke: str\n",
    "    improved_joke: str\n",
    "    final_joke: str"
   ]
  },
  {
   "cell_type": "code",
   "execution_count": 17,
   "metadata": {},
   "outputs": [
    {
     "name": "stdout",
     "output_type": "stream",
     "text": [
      "content='Hello! How can I assist you today?' additional_kwargs={} response_metadata={'token_usage': {'completion_tokens': 10, 'prompt_tokens': 30, 'total_tokens': 40, 'completion_time': 0.05, 'prompt_time': 0.003738122, 'queue_time': 0.049346087, 'total_time': 0.053738122}, 'model_name': 'qwen-2.5-32b', 'system_fingerprint': 'fp_35f92f8282', 'finish_reason': 'stop', 'logprobs': None} id='run-dea05509-12a7-40be-bfe4-43e7e8115643-0' usage_metadata={'input_tokens': 30, 'output_tokens': 10, 'total_tokens': 40}\n"
     ]
    }
   ],
   "source": [
    "import os\n",
    "from dotenv import load_dotenv\n",
    "load_dotenv()\n",
    "\n",
    "from langchain_groq import ChatGroq\n",
    "from langchain_openai import ChatOpenAI\n",
    "\n",
    "# os.environ[\"OPENAI_API_KEY\"] = os.getenv(\"OPENAI_API_KEY\")\n",
    "os.environ[\"GROQ_API_KEY\"] = os.getenv(\"GROQ_API_KEY\")\n",
    "\n",
    "llm = ChatGroq(model=\"qwen-2.5-32b\")\n",
    "# llm = ChatOpenAI(model=\"gpt-4o\")\n",
    "result = llm.invoke(\"Hello\")\n",
    "\n",
    "print(result)"
   ]
  },
  {
   "cell_type": "code",
   "execution_count": 18,
   "metadata": {},
   "outputs": [],
   "source": [
    "# Nodes\n",
    "\n",
    "def generate_joke(state: State):\n",
    "    \"\"\"first LLM call to generate initial joke\"\"\"\n",
    "\n",
    "    msg = llm.invoke(f\"Write a short joke on topic {state['topic']}\")\n",
    "    return {\n",
    "        \"joke\": msg.content\n",
    "    }\n",
    "\n",
    "def check_punchline(state: State):\n",
    "    \"\"\"Gate to check if the joke has a punchline\"\"\"\n",
    "\n",
    "    # Simple check - does the joke contains \"?\" or \"!\"\n",
    "    if \"?\" in state[\"joke\"] or \"!\" in state[\"joke\"]:\n",
    "        return \"Fail\"\n",
    "    return \"Pass\"\n",
    "\n",
    "def improve_joke(state: State):\n",
    "    \"\"\"second LLM call to improve the joke\"\"\"\n",
    "\n",
    "    msg = llm.invoke(f\"Make this jpoke funnier by adding word play: {state['joke']}\")\n",
    "    return {\n",
    "        \"improved_joke\": msg.content\n",
    "    }\n",
    "\n",
    "def polish_joke(state: State):\n",
    "    \"\"\"third LLM call to make the joke more polished\"\"\"\n",
    "\n",
    "    msg = llm.invoke(f\"Add a surprising twist to this joke: {state['improved_joke']}\")\n",
    "    return {\n",
    "        \"final_joke\": msg.content\n",
    "    }"
   ]
  },
  {
   "cell_type": "code",
   "execution_count": 21,
   "metadata": {},
   "outputs": [
    {
     "data": {
      "image/png": "[encoded data removed]",
      "text/plain": [
       "<IPython.core.display.Image object>"
      ]
     },
     "metadata": {},
     "output_type": "display_data"
    }
   ],
   "source": [
    "# Build Workflow\n",
    "workflow = StateGraph(State)\n",
    "\n",
    "# Add nodes\n",
    "workflow.add_node(\"generate_joke\", generate_joke)\n",
    "workflow.add_node(\"improve_joke\", improve_joke)\n",
    "workflow.add_node(\"polish_joke\", polish_joke)\n",
    "\n",
    "# Add edges to connect nodes\n",
    "workflow.add_edge(START, \"generate_joke\")\n",
    "workflow.add_conditional_edges(\"generate_joke\", check_punchline, {\"Fail\": \"improve_joke\", \"Pass\": END})\n",
    "workflow.add_edge(\"improve_joke\", \"polish_joke\")\n",
    "workflow.add_edge(\"polish_joke\", END)\n",
    "\n",
    "# Compile the graph\n",
    "graph = workflow.compile()\n",
    "\n",
    "display(Image(graph.get_graph().draw_mermaid_png()))"
   ]
  },
  {
   "cell_type": "code",
   "execution_count": 22,
   "metadata": {},
   "outputs": [],
   "source": [
    "# Invoke\n",
    "\n",
    "state = graph.invoke({\"topic\": \"cats\"})"
   ]
  },
  {
   "cell_type": "code",
   "execution_count": 23,
   "metadata": {},
   "outputs": [
    {
     "data": {
      "text/plain": [
       "{'topic': 'cats',\n",
       " 'joke': \"Why don't cats play poker in the wild? Because there are too many cheats (cheetahs)!\",\n",
       " 'improved_joke': 'Why don\\'t cats play poker in the wild? Because every time they deal, they end up with a deck full of cheats (cheetahs)! Plus, who can focus on their cards when there\\'s a constant purr-ade of \"I\\'m the king of the savanna\" going on?',\n",
       " 'final_joke': 'Why don\\'t cats play poker in the wild? Because every time they deal, they end up with a deck full of cheats (cheetahs)! Plus, who can focus on their cards when there\\'s a constant purr-ade of \"I\\'m the king of the savanna\" going on? And to top it all off, one day a clever fox walks by, overhears their game, and decides to join. Turns out, not only can foxes count cards, but they can also predict the next card based on the subtle movements of the cheetahs’ tails!'}"
      ]
     },
     "execution_count": 23,
     "metadata": {},
     "output_type": "execute_result"
    }
   ],
   "source": [
    "state"
   ]
  },
  {
   "cell_type": "markdown",
   "metadata": {},
   "source": [
    "### Parallelization\n",
    "with parallelization, LLMs works simultaneously on a task\n",
    "\n",
    "LLMs can sometimes work simultaneously on a task and have their outputs aggregated programitically. This workflow, parallelization, manifests in two key variations: Sectioning : Breaking a task into independent subtasks run in parallel.\n",
    "Voting: Running the same task multiple times to get diverse outputs.\n",
    "\n",
    "When to use this workflow ? Parallelization is effective when the divided subtasks can be parallelized for speed, or when multiple perspectives or attempts are needed for highe confidence result."
   ]
  },
  {
   "cell_type": "code",
   "execution_count": 27,
   "metadata": {},
   "outputs": [],
   "source": [
    "# graph State\n",
    "\n",
    "class State(TypedDict):\n",
    "    topic: str\n",
    "    joke: str\n",
    "    story: str\n",
    "    poem: str\n",
    "    combined_output: str\n",
    "\n",
    "# Nodes\n",
    "\n",
    "def generate_joke(state: State):\n",
    "    \"\"\"LLM call to generate initial joke\"\"\"\n",
    "\n",
    "    msg = llm.invoke(f\"Write a short joke on topic {state['topic']}\")\n",
    "    return {\n",
    "        \"joke\": msg.content\n",
    "    }\n",
    "\n",
    "\n",
    "def generate_story(state: State):\n",
    "    \"\"\"LLM call to generate initial story\"\"\"\n",
    "\n",
    "    msg = llm.invoke(f\"Write a short story about {state['topic']}\")\n",
    "    return {\n",
    "        \"story\": msg.content\n",
    "    }\n",
    "\n",
    "\n",
    "def generate_poem(state: State):\n",
    "    \"\"\"LLM call to generate initial poem\"\"\"\n",
    "\n",
    "    msg = llm.invoke(f\"Write a short poem about {state['topic']}\")\n",
    "    return {\n",
    "        \"poem\": msg.content\n",
    "    }\n",
    "\n",
    "\n",
    "def combine_output(state: State):\n",
    "    return {\n",
    "        \"combined_output\": f\"JOKE: \\n\\n{state['joke']}\\n\\n STORY: \\n\\n{state['story']}\\n\\n POEM: \\n\\n{state['poem']}\\n\\n\"\n",
    "    }\n",
    "\n",
    "# Build Workflow\n",
    "\n",
    "parallel_builder = StateGraph(State)\n",
    "\n",
    "parallel_builder.add_node(\"generate_joke\", generate_joke)\n",
    "parallel_builder.add_node(\"generate_story\", generate_story)\n",
    "parallel_builder.add_node(\"generate_poem\", generate_poem)\n",
    "parallel_builder.add_node(\"combine_output\", combine_output)\n",
    "\n",
    "# Add edges to connect nodes\n",
    "parallel_builder.add_edge(START, \"generate_joke\")\n",
    "parallel_builder.add_edge(START, \"generate_story\")\n",
    "parallel_builder.add_edge(START, \"generate_poem\")\n",
    "parallel_builder.add_edge(\"generate_joke\", \"combine_output\")\n",
    "parallel_builder.add_edge(\"generate_story\", \"combine_output\")\n",
    "parallel_builder.add_edge(\"generate_poem\", \"combine_output\")\n",
    "parallel_builder.add_edge(\"combine_output\", END)\n",
    "\n",
    "# Compile the graph\n",
    "graph = parallel_builder.compile()\n",
    "\n",
    "# display(Image(graph.get_graph().draw_mermaid_png()))"
   ]
  },
  {
   "cell_type": "code",
   "execution_count": 28,
   "metadata": {},
   "outputs": [
    {
     "name": "stdout",
     "output_type": "stream",
     "text": [
      "JOKE: \n",
      "\n",
      "Why did the capitalist go broke?\n",
      "\n",
      "Because he thought every problem had a market solution, but in the end, he just couldn't sell enough of his daydreams!\n",
      "\n",
      " STORY: \n",
      "\n",
      "In the bustling city of Apex, where the skyline was a testament to human ambition, every building vied for supremacy, each taller and more luxurious than the last. At the heart of this city, where dreams of wealth and success were as common as the morning sun, stood two companies: LuminaTech, a sprawling tech enterprise, and GreenFields, a modest organic farm.\n",
      "\n",
      "LuminaTech, with its sleek skyscraper headquarters, was the epitome of modern capitalism. It produced gadgets that made daily life more efficient and connected, but at the cost of privacy and the environment. Its CEO, a charismatic figure named Marcus, was a paragon of the capitalist ethos. He believed in growth, profits, and the relentless drive to innovate, even if it meant leaving behind the old ways of doing things.\n",
      "\n",
      "On the other hand, GreenFields, tucked away in a small plot of land amidst the urban sprawl, grew organic vegetables and fruits using sustainable methods. Its owner, Elara, believed in a different kind of success, one measured not in shareholder value but in the health of the community and the environment. She saw in her work a way to sustainably provide for others and improve the city's health without sacrificing its future.\n",
      "\n",
      "One day, a sudden economic downturn hit Apex. LuminaTech's sales dropped, and its stock took a plunge. Marcus faced a hard decision: to cut costs and lay off workers, or to innovate again, but this time in a way that might alienate his core customers by reducing the quality of his products.\n",
      "\n",
      "Meanwhile, GreenFields, though small, was thriving. Its loyal customers valued the quality and the ethics behind the farm's products. Elara saw the opportunity to expand and bring about a change in how the city consumed food. She started a community-supported agriculture program, where citizens could buy shares of the farm and receive fresh produce weekly, knowing where their food came from and how it was grown.\n",
      "\n",
      "The contrast between the two businesses was stark. LuminaTech's board pushed for drastic measures, while GreenFields' community grew stronger, supporting its principles. Marcus watched as his company's influence waned, and he began to realize that the relentless pursuit of profit was not sustainable without a foundation of trust and ethical practice.\n",
      "\n",
      "Inspired by Elara's success, Marcus sought to bridge the gap between their philosophies. He started a project to make LuminaTech's products more sustainable, investing in research and development to create gadgets that not only improved lives but did so in an environmentally friendly way. He reached out to Elara, proposing a partnership to integrate technology into sustainable agriculture, creating a model that could be replicated worldwide.\n",
      "\n",
      "In the end, Apex became a city that prided itself on innovation and sustainability. LuminaTech and GreenFields became symbols of a new kind of capitalism, one that recognized the importance of social and environmental responsibility alongside economic success. Marcus and Elara's partnership showed that the capitalist system could evolve to meet the needs of both people and the planet, creating a future where success was not just a measure of wealth, but of well-being for all.\n",
      "\n",
      " POEM: \n",
      "\n",
      "In a world where gold is the heart's desires,\n",
      "Where every action seeks its reward,\n",
      "The gears of commerce never tire,\n",
      "In the endless chase to be adored.\n",
      "\n",
      "Mountains of wealth for some to climb,\n",
      "Oceans of need for others to drown,\n",
      "In the game of life, the rules align,\n",
      "To favor those who wear the crown.\n",
      "\n",
      "Yet in the shadows, whispers low,\n",
      "Of a world where hearts and not coins grow,\n",
      "Dreaming past the capitalist glow,\n",
      "Towards a light of shared emotion's flow.\n",
      "\n",
      "\n"
     ]
    }
   ],
   "source": [
    "# Invoke\n",
    "\n",
    "state = graph.invoke({\"topic\": \"capitalism\"})\n",
    "print(state[\"combined_output\"])"
   ]
  },
  {
   "cell_type": "markdown",
   "metadata": {},
   "source": [
    "### Routing\n",
    "\n",
    "task classification"
   ]
  },
  {
   "cell_type": "code",
   "execution_count": 29,
   "metadata": {},
   "outputs": [],
   "source": [
    "from typing_extensions import Literal\n",
    "from pydantic import BaseModel, Field\n",
    "from langchain_core.messages import HumanMessage, SystemMessage\n",
    "\n",
    "# Schema for structured output to use as routing logic\n",
    "class Route(BaseModel):\n",
    "    step: Literal[\"joke\", \"story\", \"poem\"] = Field(\n",
    "        None, description=\"The next step in the routing process\"\n",
    "    )\n",
    "\n",
    "# Augment the LLM with the schema for structured output\n",
    "router = llm.with_structured_output(Route)"
   ]
  },
  {
   "cell_type": "code",
   "execution_count": 30,
   "metadata": {},
   "outputs": [
    {
     "data": {
      "image/png": "[encoded data removed]",
      "text/plain": [
       "<IPython.core.display.Image object>"
      ]
     },
     "metadata": {},
     "output_type": "display_data"
    }
   ],
   "source": [
    "# State\n",
    "\n",
    "class State(TypedDict):\n",
    "    input: str\n",
    "    decision: str\n",
    "    output: str\n",
    "\n",
    "\n",
    "# Nodes\n",
    "def llm_call_1(state: State):\n",
    "    \"\"\"Write a story\"\"\"\n",
    "    result = llm.invoke(state[\"input\"])\n",
    "    return {\"output\": result.content}\n",
    "\n",
    "def llm_call_2(state: State):\n",
    "    \"\"\"Write a poem\"\"\"\n",
    "    result = llm.invoke(state[\"input\"])\n",
    "    return {\"output\": result.content}\n",
    "\n",
    "def llm_call_3(state: State):\n",
    "    \"\"\"Write a joke\"\"\"\n",
    "    result = llm.invoke(state[\"input\"])\n",
    "    return {\"output\": result.content}\n",
    "\n",
    "def llm_call_router(state: State):\n",
    "    \"\"\"Route the input to appropriate node\"\"\"\n",
    "    # Run the augmented LLM with structured output to serve as routing logic\n",
    "    decision = router.invoke([\n",
    "        SystemMessage(content=\"Route the input to appropriate node[story, poem, joke] based on users request. \"),\n",
    "        HumanMessage(content=state[\"input\"])\n",
    "    ])\n",
    "\n",
    "    return {\n",
    "        \"decision\": decision.step,\n",
    "    }\n",
    "\n",
    "# conditional edge function to route to the appropriate node\n",
    "def route_decision(state: State):\n",
    "    # Return the node name you want to visit next\n",
    "    if state[\"decision\"] == \"story\":\n",
    "        return \"llm_call_1\"\n",
    "    elif state[\"decision\"] == \"poem\":\n",
    "        return \"llm_call_2\"\n",
    "    elif state[\"decision\"] == \"joke\":\n",
    "        return \"llm_call_3\"\n",
    "    \n",
    "# Build Workflow\n",
    "router_builder = StateGraph(State)\n",
    "\n",
    "# Add nodes\n",
    "router_builder.add_node(\"llm_call_1\", llm_call_1)\n",
    "router_builder.add_node(\"llm_call_2\", llm_call_2)\n",
    "router_builder.add_node(\"llm_call_3\", llm_call_3)\n",
    "router_builder.add_node(\"llm_call_router\", llm_call_router)\n",
    "\n",
    "# Add edges to connect nodes\n",
    "router_builder.add_edge(START, \"llm_call_router\")\n",
    "router_builder.add_conditional_edges(\"llm_call_router\", route_decision, {\n",
    "    \"llm_call_1\": \"llm_call_1\",\n",
    "    \"llm_call_2\": \"llm_call_2\",\n",
    "    \"llm_call_3\": \"llm_call_3\"\n",
    "}) # Name returned by route_decision : Name of next node to visit\n",
    "router_builder.add_edge(\"llm_call_1\", END)\n",
    "router_builder.add_edge(\"llm_call_2\", END)\n",
    "router_builder.add_edge(\"llm_call_3\", END)\n",
    "\n",
    "# compile the graph\n",
    "graph = router_builder.compile()\n",
    "\n",
    "display(Image(graph.get_graph().draw_mermaid_png()))"
   ]
  },
  {
   "cell_type": "code",
   "execution_count": 31,
   "metadata": {},
   "outputs": [
    {
     "name": "stdout",
     "output_type": "stream",
     "text": [
      "In a cozy little house nestled among the lush green trees of a small suburban neighborhood, there lived a cat named Whiskers. Whiskers was no ordinary cat; he was a sleek, black and white furry marvel with eyes that sparkled like polished emeralds. His owner, an elderly widow named Mrs. Harper, cherished him as much as Whiskers adored her.\n",
      "\n",
      "Mrs. Harper lived alone since her husband's passing, and the house was quiet. It was Whiskers who brought laughter and warmth to the house. His daily antics, from chasing invisible mice to knocking over potted plants, filled the house with cheer. However, Whiskers was not content to be a house cat forever, and one day, he decided to embark on an adventure.\n",
      "\n",
      "One sunny morning, as Mrs. Harper opened the front door to fetch the newspaper, Whiskers saw his chance. With a quick dart, he slipped out and set off into the neighborhood. He meandered down the street, the world was a big and exciting place for a cat who spent most of his days indoors. He stopped to sniff a patch of daffodils, then trotted down the sidewalk, paws clicking against the pavement.\n",
      "\n",
      "As Whiskers explored, he came across a colony of cats. This was something new for him. He watched from a distance as they played and hunted. Curiosity got the better of him, and he cautiously approached. The other cats, seeing a new face, were wary at first, but Whiskers' friendly nature won them over. Soon, he was rolling in the grass with a bunch of young kittens, teaching them to play and play-fighting back.\n",
      "\n",
      "The days passed, and Whiskers became a regular part of the colony. He learned new hunting skills and found companionship in his new feline friends. However, he couldn't shake the feeling that something was missing. One evening, as the sun was setting, he decided to return home. As he approached the house, he saw Mrs. Harper worriedly looking out the window, her eyes scanning the street.\n",
      "\n",
      "Whiskers padded up to the front door, and Mrs. Harper, noticing the shadow on the porch, hurried out. When she saw Whiskers, her face lit up with relief and joy. She scooped him up in her arms and held him close, a smile spreading across her face. Whiskers purred contentedly, feeling the warmth and love of his home.\n",
      "\n",
      "From that day on, Whiskers still enjoyed his adventures, but he always found his way back to Mrs. Harper. He had discovered the joys of the outside world and the comfort of a loving home. Whiskers' adventures had made him a more confident and curious cat, and he shared these new experiences with Mrs. Harper, who in turn, listened with the same warmth and care she'd always shown him. Their bond was stronger than ever, and Whiskers knew he would always come back to his loving home.\n"
     ]
    }
   ],
   "source": [
    "# Invoke\n",
    "\n",
    "state = graph.invoke({\"input\": \"Write a story about a cat\"})\n",
    "print(state[\"output\"])"
   ]
  },
  {
   "cell_type": "markdown",
   "metadata": {},
   "source": [
    "### Orchestrator Worker\n",
    "\n",
    "In Orchestrator Worker workflow, a central LLM dynamically breaks down tasks, delegates them to worker LLMs, and synthesizes their results."
   ]
  },
  {
   "cell_type": "code",
   "execution_count": 41,
   "metadata": {},
   "outputs": [],
   "source": [
    "from typing import List\n",
    "\n",
    "# Schema for structured output to the planning\n",
    "class Section(BaseModel):\n",
    "    name: str = Field(None, description=\"Name for this section of report\")\n",
    "    description: str = Field(None, description=\"Brief overview of the main topics and concepts to be covered in this section\")\n",
    "\n",
    "\n",
    "class Sections(BaseModel):\n",
    "    sections: List[Section] = Field(None, description=\"List of sections to be included in the report\")\n",
    "\n",
    "# Augument the LLM with schema for structured output\n",
    "planner = llm.with_structured_output(Sections)"
   ]
  },
  {
   "cell_type": "markdown",
   "metadata": {},
   "source": [
    "#### Creating workers in langgraph\n",
    "\n",
    "Because orchestrator-worker workflows are common, LangGraph has the Send API to support this . It lets you dynamically create worker nodes and send each one a specific input. Each worker has its own state, and all workers outputs are written to a shred state key that is accessible to orchatrater graph"
   ]
  },
  {
   "cell_type": "code",
   "execution_count": 42,
   "metadata": {},
   "outputs": [],
   "source": [
    "from langgraph.constants import Send\n",
    "from typing import Annotated\n",
    "import operator\n",
    "\n",
    "# Graph State\n",
    "class State(TypedDict):\n",
    "    topic: str # Report topic\n",
    "    sections: list[Section] # List of sections\n",
    "    completed_sections: Annotated[list, operator.add] # All the workers write to this key in parallel\n",
    "    final_report: str # Final report\n",
    "\n",
    "# Worker state\n",
    "class WorkerState(TypedDict):\n",
    "    section: Section\n",
    "    completed_sections: Annotated[list, operator.add]\n",
    "\n",
    "# Nodes\n",
    "def orchastrater(state: State):\n",
    "    \"\"\"Orchastrator that generates a plan for the report\"\"\"\n",
    "\n",
    "    # Generate queries\n",
    "    report_sections = planner.invoke(\n",
    "        [\n",
    "            SystemMessage(content=\"Generate a plan for the report\"),\n",
    "            HumanMessage(content=f\"Here is the report topic : {state[\"topic\"]}\")\n",
    "        ]\n",
    "    )\n",
    "\n",
    "    return {\"sections\": report_sections.sections}\n",
    "\n",
    "def llm_call(state: WorkerState):\n",
    "    \"\"\"Worker that writes a section of the report\"\"\"\n",
    "\n",
    "    # generate section\n",
    "    section = llm.invoke(\n",
    "        [\n",
    "            SystemMessage(content=\"Write a report section following the provided name and description. Include no preamble for each section. Use markdown formatting\"),\n",
    "            HumanMessage(content=f\"Here is the section name : {state['section'].name} and description : {state['section'].description}\")\n",
    "        ]\n",
    "    )\n",
    "\n",
    "    return {\"completed_sections\": [section.content]}\n",
    "\n",
    "\n",
    "def synthesizer(state: State):\n",
    "    \"\"\"Synthesize full report from sections\"\"\"\n",
    "    # List of completed sections\n",
    "    completed_sections = state[\"completed_sections\"]\n",
    "\n",
    "    # Format completed section to str to use as context for final sections\n",
    "    completed_report_sections = \"\\n\\n---\\n\\n\".join(completed_sections)\n",
    "\n",
    "    # final report\n",
    "    return {\"final_report\": completed_report_sections}\n",
    "\n",
    "# Conditional edge function to create llm_call workers that each write a section of the report\n",
    "def assign_workers(state: State):\n",
    "    \"\"\"Assign a worker to each section in the plan\"\"\"\n",
    "    ## Kick off section writing in parellel via Send() API\n",
    "    return [Send(\"llm_call\", {\"section\": s}) for s in state[\"sections\"]]"
   ]
  },
  {
   "cell_type": "code",
   "execution_count": 43,
   "metadata": {},
   "outputs": [
    {
     "data": {
      "image/png": "[encoded data removed]",
      "text/plain": [
       "<IPython.core.display.Image object>"
      ]
     },
     "metadata": {},
     "output_type": "display_data"
    }
   ],
   "source": [
    "# Build workflow\n",
    "orchastrator_workflow_builder = StateGraph(State)\n",
    "\n",
    "# Add the nodes\n",
    "orchastrator_workflow_builder.add_node(\"orchastrater\", orchastrater)\n",
    "orchastrator_workflow_builder.add_node(\"llm_call\", llm_call)\n",
    "orchastrator_workflow_builder.add_node(\"synthesizer\", synthesizer)\n",
    "\n",
    "# Add edges to connect nodes\n",
    "orchastrator_workflow_builder.add_edge(START, \"orchastrater\")\n",
    "orchastrator_workflow_builder.add_conditional_edges(\"orchastrater\", assign_workers, [\"llm_call\"])\n",
    "orchastrator_workflow_builder.add_edge(\"llm_call\", \"synthesizer\")\n",
    "orchastrator_workflow_builder.add_edge(\"synthesizer\", END)\n",
    "\n",
    "# compile the workflow\n",
    "orchastrator_worker = orchastrator_workflow_builder.compile()\n",
    "\n",
    "# show the graph\n",
    "display(Image(orchastrator_worker.get_graph().draw_mermaid_png()))"
   ]
  },
  {
   "cell_type": "code",
   "execution_count": 45,
   "metadata": {},
   "outputs": [
    {
     "data": {
      "text/markdown": [
       "## Introduction to Microservice Architecture\n",
       "\n",
       "Microservice architecture is a design approach that structures an application as a collection of loosely coupled services, which implement business capabilities. Each service is a small, independent process that communicates with other services through well-defined APIs. This architectural style emphasizes the idea of dividing complex software systems into smaller, manageable, and maintainable pieces, each of which can be developed, deployed, and scaled independently.\n",
       "\n",
       "The principles behind microservices include:\n",
       "\n",
       "- **Decentralization and autonomy**: Each microservice operates independently and can be managed by a small, autonomous team. This allows for faster development cycles and more flexible scaling.\n",
       "- **Service boundaries**: Services are organized around business capabilities and are loosely coupled, which means they can be deployed and updated without affecting other services.\n",
       "- **Technology diversity**: Teams can choose the most appropriate technology stack for each service based on its specific requirements.\n",
       "- **Resilience and fault isolation**: Since services are independent, a failure in one service does not necessarily impact the functionality of the entire application.\n",
       "- **DevOps culture**: The design encourages a DevOps culture, where development and operations teams work closely together to ensure a smooth delivery and deployment process.\n",
       "\n",
       "Microservices are particularly beneficial in large-scale applications that require high scalability, flexibility, and resilience. They enable organizations to innovate more rapidly and respond effectively to changing business needs.\n",
       "\n",
       "---\n",
       "\n",
       "### Benefits of Microservice Architecture\n",
       "\n",
       "Microservices architecture offers several advantages over traditional monolithic architectures. Firstly, **enhanced scalability** is a key benefit; microservices allow teams to scale specific parts of an application independently, based on demand, rather than scaling the entire application. This targeted scaling improves resource utilization and cost-effectiveness.\n",
       "\n",
       "Another significant advantage is **improved fault isolation**. In a monolithic application, a single bug can bring down the entire system. In contrast, with microservices, a failure in one service can be isolated, preventing it from impacting the entire application. This feature not only enhances the resilience of the application but also makes troubleshooting more straightforward.\n",
       "\n",
       "The **flexibility in technology choice** is another major benefit. Each microservice can be built using the most suitable technology stack, which is ideal for complex applications that may require different technologies for different services. This flexibility allows teams to adopt new technologies more quickly and tailor their solutions to specific needs.\n",
       "\n",
       "Furthermore, **enhanced productivity** through parallel and independent development cycles is a significant advantage. Teams can work on different services simultaneously, accelerating development and deployment cycles. Continuous integration and continuous delivery (CI/CD) practices can be easily implemented, leading to faster time-to-market for new features and improvements.\n",
       "\n",
       "Lastly, **easier maintenance and updates** are facilitated by microservices. Because each service is independent, updates and bug fixes can be performed on a per-service basis, without the need to redeploy the entire application. This results in reduced maintenance costs and a more manageable codebase.\n",
       "\n",
       "Overall, microservices architecture provides a modular approach that not only improves application performance and reliability but also enhances the agility and efficiency of the development process.\n",
       "\n",
       "---\n",
       "\n",
       "### Challenges and Limitations\n",
       "\n",
       "Transitioning to a microservices architecture presents a myriad of challenges and limitations. These primarily revolve around complexity in system design, operational overhead, and the need for robust communication protocols.\n",
       "\n",
       "#### Complexity in System Design\n",
       "\n",
       "One of the most significant challenges is the increased complexity of system design. With microservices, the system is decomposed into a large number of small, independently deployable services, each with its own database. This fragmentation can lead to a more complex architecture that is harder to understand and maintain. Developers must carefully design these services to ensure they remain small, focused, and loosely coupled.\n",
       "\n",
       "#### Operational Overhead\n",
       "\n",
       "Microservices introduce a higher operational overhead compared to monolithic applications. This is because each service needs to be independently deployed, scaled, and monitored. The infrastructure required to support this can be extensive, including robust CI/CD pipelines, automated testing, and dynamic scaling mechanisms. Additionally, managing the deployment lifecycle of numerous microservices is more resource-intensive and requires specialized skills.\n",
       "\n",
       "#### Communication and Data Management\n",
       "\n",
       "Effective communication between services is another critical challenge. Services must interact seamlessly, which necessitates the use of reliable communication protocols such as REST or gRPC. However, this interaction introduces network latency, points of failure, and the need for fault tolerance mechanisms like retries and circuit breakers.\n",
       "\n",
       "Data management also becomes more complex. Each microservice typically has its own database, leading to a polyglot persistence environment. While this allows services to choose the best database for their specific needs, it also complicates data consistency and integrity across the system. Ensuring that data updates are consistent and coherent across multiple services can be a significant challenge.\n",
       "\n",
       "#### Security\n",
       "\n",
       "Security considerations are magnified in a microservices environment. With multiple services and databases, the potential attack surface increases. Traditional security measures need to be rethought, focusing on securing each microservice individually, as well as the communication channels between them. This often involves implementing identity and access management, encryption, and secure communication protocols.\n",
       "\n",
       "#### Migration and Integration\n",
       "\n",
       "For organizations migrating from monolithic applications to a microservices architecture, the process can be arduous and risky. Breaking down monolithic systems into smaller, independent services requires significant refactoring and can lead to unforeseen issues. Integrating microservices with existing legacy systems can also present technical and logistical challenges.\n",
       "\n",
       "In summary, while microservices offer compelling benefits such as scalability and resilience, they are accompanied by significant challenges and limitations. Organizations must carefully consider these factors and implement appropriate strategies to manage the increased complexity and operational demands that come with adopting a microservices architecture.\n",
       "\n",
       "---\n",
       "\n",
       "## Microservice Design Patterns\n",
       "\n",
       "Design patterns in microservices architecture are essential for addressing common challenges and promoting best practices in the development and deployment of microservices. Several design patterns have emerged as particularly useful in this context:\n",
       "\n",
       "### API Gateway\n",
       "An API Gateway acts as a single entry point for all clients to access microservices. It handles requests, routes them to the appropriate microservice, and aggregates the responses. This pattern simplifies the client by hiding the system’s complexity and providing a unified API.\n",
       "\n",
       "### Service Discovery\n",
       "In a microservices architecture, services often need to locate and communicate with other services. Service Discovery patterns help services find and connect to each other dynamically, facilitating scalability and resilience.\n",
       "\n",
       "### Circuit Breaker\n",
       "The Circuit Breaker pattern is used to detect when a service is failing and prevent further calls to the failing service. This helps to avoid cascading failures and allows the system to degrade gracefully under failure conditions.\n",
       "\n",
       "### Sidecar\n",
       "In the Sidecar pattern, a companion service is deployed alongside the main application to handle specific tasks like monitoring, logging, and networking. This keeps the main application focused on its core functionality while offloading auxiliary tasks.\n",
       "\n",
       "### Backend for Frontend (BFF)\n",
       "A BFF is a pattern where a specialized API is created for each frontend client. This allows the API to be optimized for the specific needs of the client, such as different devices or user roles, improving performance and user experience.\n",
       "\n",
       "### Command Query Responsibility Segregation (CQRS)\n",
       "CQRS is a pattern that separates read and write operations into distinct models. This separation allows for more efficient handling of read-heavy and write-heavy operations, enhancing the scalability and performance of the system.\n",
       "\n",
       "### Event Sourcing\n",
       "Event Sourcing is a pattern in which changes to application state are stored as a sequence of events. This approach enables better auditing, history tracking, and can simplify implementing features such as undo/redo operations.\n",
       "\n",
       "### Saga\n",
       "Sagas are used to manage long-running business transactions that span multiple services. They ensure that all services involved in a transaction can complete their operations successfully or roll back changes if any step fails, thus maintaining consistency across the system.\n",
       "\n",
       "### Bulkhead\n",
       "The Bulkhead pattern is used to isolate failures by splitting resources and dependencies into separate pools. This prevents a failure in one part of the system from affecting other parts, thereby improving fault tolerance.\n",
       "\n",
       "These design patterns provide a robust foundation for building and managing microservices, offering solutions to common architectural and operational challenges. By leveraging these patterns, developers can create more resilient, scalable, and maintainable microservices architectures.\n",
       "\n",
       "---\n",
       "\n",
       "## Tooling and Technologies\n",
       "\n",
       "The implementation, monitoring, and management of microservices rely on a variety of tools and technologies to ensure efficiency, scalability, and reliability. Key components include containerization platforms such as Docker for packaging applications and dependencies into lightweight, portable containers. Kubernetes is a widely adopted orchestration system used to automate the deployment, scaling, and management of containerized applications.\n",
       "\n",
       "For service discovery and communication, tools such as Apache ZooKeeper and Consul are often used to maintain a dynamic inventory of services and facilitate communication between microservices. API gateways like Kong and Netflix Zuul provide a single entry point for clients to access the microservices, handling tasks such as request routing and load balancing.\n",
       "\n",
       "Monitoring and logging are critical for maintaining the health and performance of microservices. Tools like Prometheus and Grafana offer robust monitoring solutions that allow for real-time tracking of application performance and resource usage. ELK Stack (Elasticsearch, Logstash, Kibana) and Fluentd are popular choices for log collection, processing, and visualization.\n",
       "\n",
       "Additionally, CI/CD pipelines powered by Jenkins, GitLab CI, and CircleCI enable continuous integration and delivery, streamlining the development and deployment processes. These tools work together to create a comprehensive microservices architecture that is both powerful and manageable.\n",
       "\n",
       "---\n",
       "\n",
       "### Case Study: Successful Implementation\n",
       "\n",
       "One exemplary case of successful microservices implementation is the transformation of the online retail giant, Amazon. Initially, Amazon operated as a monolithic application, but as the company scaled, the need for increased agility and scalability became apparent. Amazon began its transition to microservices, breaking down its monolithic architecture into smaller, independent services.\n",
       "\n",
       "Each microservice in Amazon’s architecture is responsible for a specific business function, such as product recommendations, order processing, or customer reviews. This decomposition allows teams to focus on specific parts of the system, enabling rapid development and deployment without the risk of destabilizing the entire application.\n",
       "\n",
       "Amazon’s implementation also emphasizes the importance of a robust service-oriented architecture (SOA) with well-defined APIs and communication protocols. This ensures that microservices can interact seamlessly, even as they evolve independently. Additionally, Amazon has implemented rigorous monitoring and logging practices to maintain operational reliability and to quickly diagnose and resolve issues.\n",
       "\n",
       "The benefits of this approach are evident in Amazon's ability to introduce new features and innovations at a rapid pace, while also handling the massive traffic and transaction volumes typical of a global e-commerce leader. The microservices architecture has been a key enabler for Amazon's continued success and competitive advantage in the market.\n",
       "\n",
       "---\n",
       "\n",
       "### Best Practices\n",
       "\n",
       "- **Modular Design**: Design microservices to handle specific business capabilities. Each microservice should have a clear, single responsibility and a well-defined scope.\n",
       "\n",
       "- **API Gateway**: Use an API gateway to provide a unified interface for clients and manage the interaction with the microservices.\n",
       "\n",
       "- **Service Discovery**: Implement a service discovery mechanism to enable services to locate and communicate with each other without hardcoding IP addresses or ports.\n",
       "\n",
       "- **Circuit Breaker**: Implement circuit breaker patterns to prevent a failure in one microservice from cascading to others, improving system resilience.\n",
       "\n",
       "- **Data Management**: Each microservice should own its database and data management to ensure loose coupling and high cohesion. Avoid sharing databases between services.\n",
       "\n",
       "- **Configuration Management**: Use centralized configuration management to handle different environments (development, staging, production) and to externalize configuration from code.\n",
       "\n",
       "- **Monitoring and Logging**: Implement comprehensive monitoring and logging to track the behavior and performance of microservices. Logs should be aggregated and processed for analysis.\n",
       "\n",
       "- **Continuous Integration/Continuous Deployment (CI/CD)**: Establish CI/CD pipelines to automate testing and deployment, ensuring that new changes are thoroughly tested and integrated smoothly into the environment.\n",
       "\n",
       "- **Security**: Apply security at the infrastructure, platform, and application level. Use authentication, authorization, and encryption to protect data and services.\n",
       "\n",
       "- **Documentation**: Maintain clear and up-to-date documentation for each microservice, including APIs, operational requirements, and deployment instructions."
      ],
      "text/plain": [
       "<IPython.core.display.Markdown object>"
      ]
     },
     "execution_count": 45,
     "metadata": {},
     "output_type": "execute_result"
    }
   ],
   "source": [
    "# Invoke\n",
    "\n",
    "state = orchastrator_worker.invoke({\"topic\": \"Create a report on Microservice Architecture\"})\n",
    "\n",
    "# print(state)\n",
    "from IPython.display import Markdown\n",
    "Markdown(state[\"final_report\"])"
   ]
  },
  {
   "cell_type": "markdown",
   "metadata": {},
   "source": [
    "### Evaluator optimizer\n",
    "\n",
    "In Evaluator optimizer, one LLM call generates a response while another provides evaluation and feedback in a loop."
   ]
  },
  {
   "cell_type": "code",
   "execution_count": null,
   "metadata": {},
   "outputs": [],
   "source": [
    "# Graph State\n",
    "\n",
    "class State(TypedDict):\n",
    "    joke: str\n",
    "    topic: str\n",
    "    feedback: str\n",
    "    funny_or_not: str\n",
    "\n",
    "# schema for structured output to use in evaluation\n",
    "class FeedBack(BaseModel):\n",
    "    grade: Literal[\"funny\", \"not funny\"] = Field(\n",
    "        None, description=\"Decide if the joke is funny or not\"\n",
    "    )\n",
    "    feedback: str = Field(\n",
    "        None, description=\"If joke is not funny, provide feedback on how to improve it\"\n",
    "    )\n",
    "\n",
    "\n",
    "# Augument the LLM with schema for structured output\n",
    "evaluator = llm.with_structured_output(FeedBack)\n",
    "\n",
    "# Nodes\n",
    "def llm_call_generator(state: State):\n",
    "    \"\"\"LLM generates a joke\"\"\"\n",
    "    if  state.get(\"feedback\"):\n",
    "        msg = llm.invoke(\n",
    "            f\"Write a joke about {state['topic']} but take account the feedback: {state['feedback']}\"\n",
    "        )\n",
    "    else:\n",
    "        msg = llm.invoke(f\"Write a joke about {state['topic']}\")\n",
    "\n",
    "    return {\"joke\": msg.content}\n",
    "\n",
    "def llm_call_evaluator(state: State):\n",
    "    \"\"\"LLM evaluates the joke\"\"\"\n",
    "    grade = evaluator.invoke(\n",
    "        f\"grade the joke {state['joke']}\"\n",
    "    )\n",
    "    return {\"funny_or_not\": grade.grade, \"feedback\": grade.feedback}\n",
    "\n",
    "# Conditional edge function to route back to a joke generator or end based upon feedback from the evaluator\n",
    "def route_joke(state: State):\n",
    "    \"\"\"Route back to joke generator or end based upon feedback from the evaluator\"\"\"\n",
    "\n",
    "    if state[\"funny_or_not\"] == \"funny\":\n",
    "        return \"Accepted\"\n",
    "    elif state[\"funny_or_not\"] == \"not funny\":\n",
    "        return \"Rejected + feedback\""
   ]
  }
 ],
 "metadata": {
  "kernelspec": {
   "display_name": "Python 3",
   "language": "python",
   "name": "python3"
  },
  "language_info": {
   "codemirror_mode": {
    "name": "ipython",
    "version": 3
   },
   "file_extension": ".py",
   "mimetype": "text/x-python",
   "name": "python",
   "nbconvert_exporter": "python",
   "pygments_lexer": "ipython3",
   "version": "3.12.0"
  }
 },
 "nbformat": 4,
 "nbformat_minor": 2
}
