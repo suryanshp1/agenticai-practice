{
 "cells": [
  {
   "cell_type": "code",
   "execution_count": 2,
   "id": "9579dcab",
   "metadata": {},
   "outputs": [
    {
     "name": "stdout",
     "output_type": "stream",
     "text": [
      "Tool's name = duckduckgo_search\n",
      "Tool's name = A wrapper around DuckDuckGo Search. Useful for when you need to answer questions about current events. Input should be a search query.\n",
      "Tool's arg schema = f<class 'langchain_community.tools.ddg_search.tool.DDGInput'>\n"
     ]
    }
   ],
   "source": [
    "from langchain_community.tools import DuckDuckGoSearchRun\n",
    "search = DuckDuckGoSearchRun()\n",
    "print(f\"Tool's name = {search.name}\")\n",
    "print(f\"Tool's name = {search.description}\")\n",
    "print(f\"Tool's arg schema = f{search.args_schema}\")"
   ]
  },
  {
   "cell_type": "code",
   "execution_count": null,
   "id": "b21b9be5",
   "metadata": {},
   "outputs": [],
   "source": []
  }
 ],
 "metadata": {
  "kernelspec": {
   "display_name": "Python 3",
   "language": "python",
   "name": "python3"
  },
  "language_info": {
   "codemirror_mode": {
    "name": "ipython",
    "version": 3
   },
   "file_extension": ".py",
   "mimetype": "text/x-python",
   "name": "python",
   "nbconvert_exporter": "python",
   "pygments_lexer": "ipython3",
   "version": "3.11.11"
  }
 },
 "nbformat": 4,
 "nbformat_minor": 5
}
