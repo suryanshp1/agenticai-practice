{
 "cells": [
  {
   "cell_type": "code",
   "execution_count": 1,
   "id": "8decb3b8",
   "metadata": {},
   "outputs": [],
   "source": [
    "from langchain_community.agent_toolkits.openapi.toolkit import RequestsToolkit\n",
    "from langchain_community.utilities.requests import TextRequestsWrapper\n",
    "toolkit = RequestsToolkit(\n",
    "    requests_wrapper=TextRequestsWrapper(headers={}),\n",
    "    allow_dangerous_requests=True,\n",
    ")"
   ]
  },
  {
   "cell_type": "code",
   "execution_count": 2,
   "id": "fd3b8835",
   "metadata": {},
   "outputs": [
    {
     "name": "stdout",
     "output_type": "stream",
     "text": [
      "requests_get\n",
      "requests_post\n",
      "requests_patch\n",
      "requests_put\n",
      "requests_delete\n"
     ]
    }
   ],
   "source": [
    "for tool in toolkit.get_tools():\n",
    "    print(tool.name)"
   ]
  },
  {
   "cell_type": "code",
   "execution_count": 15,
   "id": "97730ae9",
   "metadata": {},
   "outputs": [],
   "source": [
    "api_spec = \"\"\"\n",
    "openapi: 3.0.0\n",
    "info:\n",
    " title: Frankfurter Currency Exchange API\n",
    " version: v1\n",
    " description: API for retrieving currency exchange rates. Pay attention to\n",
    "the base currency and change it if needed.\n",
    "servers:\n",
    " - url: https://api.frankfurter.dev/v1\n",
    "paths:\n",
    " /v1/latest:\n",
    " get:\n",
    " summary: Get the latest exchange rates.\n",
    " parameters:\n",
    " - in: query\n",
    " name: symbols\n",
    " schema:\n",
    " type: string\n",
    " description: Comma-separated list of currency symbols to retrieve\n",
    "rates for. Example: CHF,GBP\n",
    " - in: query\n",
    " name: base\n",
    " schema:\n",
    "  type: string\n",
    " description: The base currency for the exchange rates. If not\n",
    "provided, EUR is used as a base currency. Example: USD\n",
    " /v1/date:\n",
    " get:\n",
    " summary: Get exchange rates for a specific date.\n",
    " parameters:\n",
    " - in: path\n",
    " name: date\n",
    " schema:\n",
    " type: string\n",
    " description: The date to retrieve exchange rates for. Format: YYYY-MM-DD\n",
    "\"\"\""
   ]
  },
  {
   "cell_type": "code",
   "execution_count": 16,
   "id": "bd8e7377",
   "metadata": {},
   "outputs": [],
   "source": [
    "from langchain_core.prompts import PromptTemplate\n",
    "\n",
    "system_message = PromptTemplate(\n",
    "    template=\"You're given the API spec:\\n{api_spec}. \\nUse the API to answer users' queries if possible.\",\n",
    "    input_variables=[\"api_spec\"]\n",
    ")\n"
   ]
  },
  {
   "cell_type": "code",
   "execution_count": 1,
   "id": "2f41064b",
   "metadata": {},
   "outputs": [],
   "source": [
    "from dotenv import load_dotenv\n",
    "load_dotenv()\n",
    "\n",
    "from langchain_openai import ChatOpenAI\n",
    "\n",
    "llm = ChatOpenAI()"
   ]
  },
  {
   "cell_type": "code",
   "execution_count": 2,
   "id": "5ab10da2",
   "metadata": {},
   "outputs": [],
   "source": [
    "from pydantic import BaseModel, Field\n",
    "from langchain_core.prompts import ChatPromptTemplate\n",
    "class Plan(BaseModel):\n",
    "    \"\"\"Plan to follow in future\"\"\"\n",
    "    steps: list[str] = Field(\n",
    "        description=\"different steps to follow, should be in sorted order\"\n",
    "    )"
   ]
  },
  {
   "cell_type": "code",
   "execution_count": 4,
   "id": "ee264ebb",
   "metadata": {},
   "outputs": [],
   "source": [
    "system_prompt_template = (\n",
    " \"For the given task, come up with a step by step plan.\\n\"\n",
    " \"This plan should involve individual tasks, that if executed correctly will \"\n",
    " \"yield the correct answer. Do not add any superfluous steps.\\n\"\n",
    " \"The result of the final step should be the final answer. Make sure that each \"\n",
    " \"step has all the information needed - do not skip steps.\"\n",
    ")"
   ]
  },
  {
   "cell_type": "code",
   "execution_count": null,
   "id": "4b552c04",
   "metadata": {},
   "outputs": [],
   "source": [
    "planner_prompt = ChatPromptTemplate.from_messages([(\"system\", system_prompt_template), (\"user\", \"Prepare a plan how to solve the following task:\\n{task}\\n\")])\n"
   ]
  }
 ],
 "metadata": {
  "kernelspec": {
   "display_name": "Python 3",
   "language": "python",
   "name": "python3"
  },
  "language_info": {
   "codemirror_mode": {
    "name": "ipython",
    "version": 3
   },
   "file_extension": ".py",
   "mimetype": "text/x-python",
   "name": "python",
   "nbconvert_exporter": "python",
   "pygments_lexer": "ipython3",
   "version": "3.11.11"
  }
 },
 "nbformat": 4,
 "nbformat_minor": 5
}
