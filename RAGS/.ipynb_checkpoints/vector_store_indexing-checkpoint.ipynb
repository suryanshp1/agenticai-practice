{
 "cells": [
  {
   "cell_type": "code",
   "execution_count": 1,
   "id": "12612b0c",
   "metadata": {},
   "outputs": [],
   "source": [
    "import numpy as np\n",
    "import faiss\n",
    "import time\n",
    "\n",
    "# Create sample data - 10,000 vectors with 128 dimensions\n",
    "dimension = 128\n",
    "num_vectors = 10000\n",
    "vectors = np.random.random((num_vectors, dimension)).astype(np.float32)\n",
    "query = np.random.random((1, dimension)).astype(np.float32)"
   ]
  },
  {
   "cell_type": "code",
   "execution_count": 2,
   "id": "06e6ab35",
   "metadata": {},
   "outputs": [
    {
     "data": {
      "text/plain": [
       "array([[0.27412277, 0.90362036, 0.8425896 , ..., 0.82546043, 0.6318611 ,\n",
       "        0.954885  ],\n",
       "       [0.64607143, 0.7073742 , 0.50662154, ..., 0.3929032 , 0.5758515 ,\n",
       "        0.8119512 ],\n",
       "       [0.5326433 , 0.49472833, 0.35727006, ..., 0.43423846, 0.90118873,\n",
       "        0.7214608 ],\n",
       "       ...,\n",
       "       [0.34490615, 0.7350706 , 0.71708006, ..., 0.61812687, 0.41543674,\n",
       "        0.9836821 ],\n",
       "       [0.65040445, 0.9967052 , 0.7845443 , ..., 0.9100172 , 0.3200968 ,\n",
       "        0.45370603],\n",
       "       [0.7680963 , 0.8477374 , 0.37442106, ..., 0.22362429, 0.9601763 ,\n",
       "        0.16690987]], shape=(10000, 128), dtype=float32)"
      ]
     },
     "execution_count": 2,
     "metadata": {},
     "output_type": "execute_result"
    }
   ],
   "source": [
    "vectors"
   ]
  },
  {
   "cell_type": "code",
   "execution_count": 3,
   "id": "475e1139",
   "metadata": {},
   "outputs": [
    {
     "data": {
      "text/plain": [
       "array([[0.40241605, 0.7977795 , 0.7318906 , 0.19723697, 0.8442542 ,\n",
       "        0.5694432 , 0.6142105 , 0.2964006 , 0.06672271, 0.12829708,\n",
       "        0.19659263, 0.61766833, 0.0104667 , 0.24531247, 0.41956827,\n",
       "        0.85851705, 0.02280342, 0.48527583, 0.460888  , 0.8214168 ,\n",
       "        0.793887  , 0.40248948, 0.65828955, 0.26644078, 0.8146191 ,\n",
       "        0.27896154, 0.8142557 , 0.21979773, 0.9498974 , 0.93251455,\n",
       "        0.96303296, 0.8493269 , 0.23321691, 0.8957781 , 0.77955616,\n",
       "        0.11244316, 0.29904488, 0.25221083, 0.49953863, 0.51933664,\n",
       "        0.6384863 , 0.10062018, 0.7954636 , 0.6610519 , 0.89992446,\n",
       "        0.83744216, 0.05588955, 0.40948442, 0.57395744, 0.87467414,\n",
       "        0.9391812 , 0.6945718 , 0.62753415, 0.6057913 , 0.56724197,\n",
       "        0.61328846, 0.23782551, 0.5584207 , 0.8863147 , 0.6250477 ,\n",
       "        0.57485646, 0.5019436 , 0.29136333, 0.66030115, 0.9806604 ,\n",
       "        0.03936557, 0.67538804, 0.9730308 , 0.6934819 , 0.20538616,\n",
       "        0.8701518 , 0.750155  , 0.5783978 , 0.7171202 , 0.4921921 ,\n",
       "        0.9129983 , 0.7825488 , 0.3986206 , 0.97292733, 0.08296476,\n",
       "        0.83498096, 0.15975529, 0.36676985, 0.6888793 , 0.00362308,\n",
       "        0.5252254 , 0.92155075, 0.36724737, 0.5984206 , 0.9463309 ,\n",
       "        0.35463792, 0.3826479 , 0.4818281 , 0.8965049 , 0.7159078 ,\n",
       "        0.10090516, 0.5065505 , 0.3533645 , 0.14825465, 0.12336264,\n",
       "        0.8838074 , 0.87300706, 0.4678248 , 0.01935054, 0.9808716 ,\n",
       "        0.92929995, 0.6172351 , 0.9030687 , 0.8783331 , 0.03241643,\n",
       "        0.03319354, 0.86338866, 0.19374469, 0.08891558, 0.34755346,\n",
       "        0.8782348 , 0.93132025, 0.19115251, 0.82445943, 0.89928275,\n",
       "        0.5720895 , 0.8305345 , 0.9387126 , 0.47543716, 0.8946559 ,\n",
       "        0.9221143 , 0.25972527, 0.42302096]], dtype=float32)"
      ]
     },
     "execution_count": 3,
     "metadata": {},
     "output_type": "execute_result"
    }
   ],
   "source": [
    "query"
   ]
  },
  {
   "cell_type": "code",
   "execution_count": 4,
   "id": "0d90206d",
   "metadata": {},
   "outputs": [],
   "source": [
    "# Exact search index\n",
    "exact_index = faiss.IndexFlatL2(dimension)\n",
    "exact_index.add(vectors)"
   ]
  },
  {
   "cell_type": "code",
   "execution_count": 5,
   "id": "5a52d23b",
   "metadata": {},
   "outputs": [],
   "source": [
    "# HNSW index (approximate but faster)\n",
    "hnsw_index = faiss.IndexHNSWFlat(dimension, 32)\n",
    "hnsw_index.add(vectors)"
   ]
  },
  {
   "cell_type": "code",
   "execution_count": 6,
   "id": "7fc1eeda",
   "metadata": {},
   "outputs": [],
   "source": [
    "# Compare search times\n",
    "start_time = time.time()\n",
    "exact_D, exact_I = exact_index.search(query, k=10) # Search for 10nearest neighbors\n",
    "exact_time = time.time() - start_time\n",
    "start_time = time.time()\n",
    "hnsw_D, hnsw_I = hnsw_index.search(query, k=10)\n",
    "hnsw_time = time.time() - start_time"
   ]
  },
  {
   "cell_type": "code",
   "execution_count": 7,
   "id": "6739b7db",
   "metadata": {},
   "outputs": [
    {
     "name": "stdout",
     "output_type": "stream",
     "text": [
      "Exact search time: 0.001920 seconds\n",
      "HNSW search time: 0.001346 seconds\n",
      "Speed improvement: 1.43x faster\n",
      "Result overlap: 80.0%\n"
     ]
    }
   ],
   "source": [
    "# Calculate overlap (how many of the same results were found)\n",
    "overlap = len(set(exact_I[0]).intersection(set(hnsw_I[0])))\n",
    "overlap_percentage = overlap * 100 / 10\n",
    "print(f\"Exact search time: {exact_time:.6f} seconds\")\n",
    "print(f\"HNSW search time: {hnsw_time:.6f} seconds\")\n",
    "print(f\"Speed improvement: {exact_time/hnsw_time:.2f}x faster\")\n",
    "print(f\"Result overlap: {overlap_percentage:.1f}%\")"
   ]
  }
 ],
 "metadata": {
  "kernelspec": {
   "display_name": "Python 3",
   "language": "python",
   "name": "python3"
  },
  "language_info": {
   "codemirror_mode": {
    "name": "ipython",
    "version": 3
   },
   "file_extension": ".py",
   "mimetype": "text/x-python",
   "name": "python",
   "nbconvert_exporter": "python",
   "pygments_lexer": "ipython3",
   "version": "3.11.11"
  }
 },
 "nbformat": 4,
 "nbformat_minor": 5
}
