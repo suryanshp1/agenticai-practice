{
 "cells": [
  {
   "cell_type": "code",
   "execution_count": 2,
   "id": "614afaa6",
   "metadata": {},
   "outputs": [],
   "source": [
    "import os\n",
    "from dotenv import load_dotenv\n",
    "load_dotenv()\n",
    "\n",
    "from langchain_groq import ChatGroq\n",
    "from langchain_openai import ChatOpenAI\n",
    "\n",
    "os.environ[\"OPENAI_API_KEY\"] = os.getenv(\"OPENAI_API_KEY\")\n",
    "os.environ[\"GROQ_API_KEY\"] = os.getenv(\"GROQ_API_KEY\")"
   ]
  },
  {
   "cell_type": "code",
   "execution_count": 3,
   "id": "8812098c",
   "metadata": {},
   "outputs": [],
   "source": [
    "from langchain_community.document_loaders import WebBaseLoader\n",
    "from langchain_text_splitters import RecursiveCharacterTextSplitter\n",
    "from langchain_openai import OpenAIEmbeddings\n",
    "from langchain_community.vectorstores import FAISS\n",
    "\n",
    "urls = [\n",
    "    \"https://www.wikipedia.org/wiki/Deep_learning\",\n",
    "    \"https://www.wikipedia.org/wiki/Artificial_intelligence\",\n",
    "    \"https://www.wikipedia.org/wiki/Machine_learning\",\n",
    "]\n",
    "\n",
    "docs = [WebBaseLoader(url).load() for url in urls]\n",
    "docs_list = [doc for sublist in docs for doc in sublist]\n",
    "\n",
    "text_splitter = RecursiveCharacterTextSplitter(chunk_size=100, chunk_overlap=50)\n",
    "doc_splits = text_splitter.split_documents(docs_list)\n",
    "\n",
    "# Add all these texts to  the vector store\n",
    "vector_store = FAISS.from_documents(documents=doc_splits, embedding=OpenAIEmbeddings())\n",
    "\n",
    "# Create a retriever from the vector store\n",
    "retriever = vector_store.as_retriever()"
   ]
  },
  {
   "cell_type": "code",
   "execution_count": 5,
   "id": "87b83448",
   "metadata": {},
   "outputs": [
    {
     "data": {
      "text/plain": [
       "[Document(id='2ad05190-50df-427c-9a63-69a04540dda7', metadata={'source': 'https://www.wikipedia.org/wiki/Artificial_intelligence', 'title': 'Artificial intelligence - Wikipedia', 'language': 'en'}, page_content='Deep learning'),\n",
       " Document(id='49b6b888-640d-41e1-afc3-5b1f0b62e53b', metadata={'source': 'https://www.wikipedia.org/wiki/Machine_learning', 'title': 'Machine learning - Wikipedia', 'language': 'en'}, page_content='Deep learning — branch of ML concerned with artificial neural networks'),\n",
       " Document(id='1362305a-f281-41f8-890b-70b75b63df82', metadata={'source': 'https://www.wikipedia.org/wiki/Deep_learning', 'title': 'Deep learning - Wikipedia', 'language': 'en'}, page_content='Fundamentally, deep learning refers to a class of machine learning algorithms in which a hierarchy'),\n",
       " Document(id='c35845e9-d243-467c-99e9-16fcda9d1d7a', metadata={'source': 'https://www.wikipedia.org/wiki/Deep_learning', 'title': 'Deep learning - Wikipedia', 'language': 'en'}, page_content='Deep learning revolution[edit]')]"
      ]
     },
     "execution_count": 5,
     "metadata": {},
     "output_type": "execute_result"
    }
   ],
   "source": [
    "retriever.invoke(\"What is deep learning?\")"
   ]
  },
  {
   "cell_type": "code",
   "execution_count": 6,
   "id": "3f8ce5be",
   "metadata": {},
   "outputs": [],
   "source": [
    "from langchain.tools.retriever import create_retriever_tool\n",
    "\n",
    "retriever_tool = create_retriever_tool(\n",
    "    retriever=retriever,\n",
    "    name=\"WikipediaRetriever\",\n",
    "    description=\"Useful for retrieving information from Wikipedia articles about AI, ML, and DL.\",\n",
    ")"
   ]
  },
  {
   "cell_type": "code",
   "execution_count": 7,
   "id": "6c33b399",
   "metadata": {},
   "outputs": [
    {
     "data": {
      "text/plain": [
       "Tool(name='WikipediaRetriever', description='Useful for retrieving information from Wikipedia articles about AI, ML, and DL.', args_schema=<class 'langchain_core.tools.retriever.RetrieverInput'>, func=functools.partial(<function _get_relevant_documents at 0x00000227B582C180>, retriever=VectorStoreRetriever(tags=['FAISS', 'OpenAIEmbeddings'], vectorstore=<langchain_community.vectorstores.faiss.FAISS object at 0x00000227C4860710>, search_kwargs={}), document_prompt=PromptTemplate(input_variables=['page_content'], input_types={}, partial_variables={}, template='{page_content}'), document_separator='\\n\\n', response_format='content'), coroutine=functools.partial(<function _aget_relevant_documents at 0x00000227B5937D80>, retriever=VectorStoreRetriever(tags=['FAISS', 'OpenAIEmbeddings'], vectorstore=<langchain_community.vectorstores.faiss.FAISS object at 0x00000227C4860710>, search_kwargs={}), document_prompt=PromptTemplate(input_variables=['page_content'], input_types={}, partial_variables={}, template='{page_content}'), document_separator='\\n\\n', response_format='content'))"
      ]
     },
     "execution_count": 7,
     "metadata": {},
     "output_type": "execute_result"
    }
   ],
   "source": [
    "retriever_tool"
   ]
  },
  {
   "cell_type": "code",
   "execution_count": 8,
   "id": "5fc18a53",
   "metadata": {},
   "outputs": [],
   "source": [
    "tools = [retriever_tool]"
   ]
  },
  {
   "cell_type": "code",
   "execution_count": 9,
   "id": "d9745ee7",
   "metadata": {},
   "outputs": [],
   "source": [
    "from typing import Annotated, Sequence\n",
    "from langchain_core.messages import BaseMessage\n",
    "from typing_extensions import TypedDict\n",
    "from langgraph.graph.message import add_messages\n",
    "\n",
    "class AgentState(TypedDict):\n",
    "    messages: Annotated[Sequence[BaseMessage], add_messages]"
   ]
  },
  {
   "cell_type": "code",
   "execution_count": 11,
   "id": "dd10f9a4",
   "metadata": {},
   "outputs": [],
   "source": [
    "def agent(state: AgentState) -> str:\n",
    "    messages = state[\"messages\"]\n",
    "    model = ChatGroq(model=\"qwen-qwq-32b\")\n",
    "    model = model.bind_tools(tools)\n",
    "    response = model.invoke(messages)\n",
    "    return {\"messages\": [response]}"
   ]
  },
  {
   "cell_type": "code",
   "execution_count": 12,
   "id": "65f7e135",
   "metadata": {},
   "outputs": [],
   "source": [
    "from typing import Annotated, Literal, Sequence\n",
    "from typing_extensions import TypedDict\n",
    "from langchain import hub\n",
    "from langchain_core.messages import HumanMessage, BaseMessage\n",
    "from langchain_core.output_parsers import StrOutputParser\n",
    "from langchain_core.prompts import PromptTemplate\n",
    "from langchain_openai import ChatOpenAI\n",
    "from pydantic import Field, BaseModel"
   ]
  },
  {
   "cell_type": "code",
   "execution_count": null,
   "id": "afb2f910",
   "metadata": {},
   "outputs": [],
   "source": [
    "class Grade(BaseModel):\n",
    "    \"\"\"Binary score for relevance check\"\"\"\n",
    "    binary_score: str = Field(\n",
    "        description=\"Relevance score 'yes' or 'no'\"\n",
    "    )\n",
    "\n",
    "\n",
    "def grade_documents(state: AgentState) -> Literal[\"generate\", \"rewrite\"]:\n",
    "    print(\"---------------CHECK RELEVANCE----------------\")\n",
    "\n",
    "    # model\n",
    "    model = ChatGroq(model=\"qwen-qwq-32b\", streaming=True)\n",
    "\n",
    "    # llm with tools and validation\n",
    "    llm_with_tools = model.with_structured_output(Grade)\n",
    "\n",
    "    # prompt\n",
    "    prompt = PromptTemplate(\n",
    "        input_variables=[\"messages\"],\n",
    "        template=\"Is the following information relevant to the question? Respond with 'yes' or 'no'.\\n\\n{messages}\",\n",
    "    )"
   ]
  },
  {
   "cell_type": "code",
   "execution_count": null,
   "id": "6d5abb45",
   "metadata": {},
   "outputs": [],
   "source": [
    "from langgraph.graph import END, START, StateGraph\n",
    "from langgraph.prebuilt import ToolNode\n",
    "from langgraph.prebuilt import tools_condition\n",
    "\n",
    "# Define a new graph\n",
    "workflow = StateGraph(AgentState)\n",
    "\n",
    "# Define the nodes we will cycle through\n",
    "workflow.add_node(\"agent\", agent)\n",
    "retrieve = ToolNode([retriever_tool])\n",
    "workflow.add_node(\"retrieve\", retrieve)\n",
    "workflow.add_node(\"rewrite\", rewrite)\n",
    "workflow.add_node(\"generate\", generate)\n",
    "\n",
    "# Call agent node to decide to retrieve or not\n",
    "workflow.add_edge(START, \"agent\")\n",
    "\n",
    "# Decide whether to retrieve\n",
    "workflow.add_conditional_edges(\"agent\", tools_condition, {\"tools\": \"retrieve\", END: END})\n",
    "workflow.add_conditional_edges(\"retrieve\", grade_documents)\n",
    "workflow.add_edge(\"generate\", END)\n",
    "workflow.add_edge(\"rewrite\", \"agent\")\n",
    "\n",
    "# Compile\n",
    "graph = workflow.compile()"
   ]
  }
 ],
 "metadata": {
  "kernelspec": {
   "display_name": "Python 3",
   "language": "python",
   "name": "python3"
  },
  "language_info": {
   "codemirror_mode": {
    "name": "ipython",
    "version": 3
   },
   "file_extension": ".py",
   "mimetype": "text/x-python",
   "name": "python",
   "nbconvert_exporter": "python",
   "pygments_lexer": "ipython3",
   "version": "3.12.0"
  }
 },
 "nbformat": 4,
 "nbformat_minor": 5
}
